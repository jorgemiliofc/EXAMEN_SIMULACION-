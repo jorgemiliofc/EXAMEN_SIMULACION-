{
  "nbformat": 4,
  "nbformat_minor": 0,
  "metadata": {
    "colab": {
      "provenance": []
    },
    "kernelspec": {
      "name": "python3",
      "display_name": "Python 3"
    },
    "language_info": {
      "name": "python"
    }
  },
  "cells": [
    {
      "cell_type": "markdown",
      "source": [
        "**<h1><center> PROBLEMA DEL QUIOSQUERO. </center></h1>**\n",
        "\n",
        "Flores Carmona Jorge Emilio"
      ],
      "metadata": {
        "id": "kIWwlu9aysG-"
      }
    },
    {
      "cell_type": "markdown",
      "source": [
        "Un quiosquero vende periódicos a 1.10 euros cada uno. Cada periódico le cuesta al quiosquero 0.90 euros. Las ventas de periódicos del quiosquero a partir de su experiencia se refleja en la tabla siguiente."
      ],
      "metadata": {
        "id": "PYGCcChYziTM"
      }
    },
    {
      "cell_type": "markdown",
      "source": [
        "![PERIODICOS.png](data:image/png;base64,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)"
      ],
      "metadata": {
        "id": "Ozbri3ryzmG-"
      }
    },
    {
      "cell_type": "markdown",
      "source": [
        "La tabla recoge por ejemplo que el 20 % del tiempo las ventas han sido de 30 periódicos. Teniendo en cuenta el coste de 0,20 euros por venta perdida y el coste de 0,10 euros por el reciclaje de cada periódico no vendido, determine el beneficio promedio diario si pide 50 periódicos cada día."
      ],
      "metadata": {
        "id": "X6DL2LoNz5wy"
      }
    },
    {
      "cell_type": "markdown",
      "source": [
        "### Solución por simulación\n",
        "\n",
        "**1.** Identificamos las variables\n",
        "\n",
        "$x =$ Numero de periodicos vendidos\n",
        "\n",
        "$c_v=$1.10 (Costo al que se vende el periodico)\n",
        "\n",
        "$c_p=$ 0.90 (Costo del periodico al quiosquero)\n",
        "\n",
        "$c_{vp}=$ 0.20 (Costo por venta perdida)\n",
        "\n",
        "$c_r=$ 0.10 (Costo por reciclaje de periodico no vendido)"
      ],
      "metadata": {
        "id": "s7BfewGw0Whm"
      }
    },
    {
      "cell_type": "markdown",
      "source": [
        "**2.** Determine la distribución de probabilidad\n",
        "\n",
        "Vemos que la distribución de probabilidad es la expresada en la imagen al inicio\n"
      ],
      "metadata": {
        "id": "ZLPX6XRs3JwM"
      }
    },
    {
      "cell_type": "markdown",
      "source": [
        "**3.** Modelamos la variable aleatoria con las probabilidades indicadas\n",
        "\n",
        "Creamos una lista aleatoria de periodicos con los porcentajes indicados haciendo uso de condicionales y la probabilidad acumulativa del problema"
      ],
      "metadata": {
        "id": "tHkjNxp-4BQR"
      }
    },
    {
      "cell_type": "markdown",
      "source": [
        "**4.** Modelo y objetivos del sistemas de simulación\n",
        "\n",
        "El objetivo del siguiente sistema es simular la llegada de periodicos en un dia y determinar cual es el beneficio promedio si se piden 50 periodicos al dia.\n",
        "\n",
        "Sea $x=$Cantidad de periodicos vendidos en un dia, nuestra variable aleatoria y los siguientes valores fijos son costos:\n",
        "\n",
        "$c_v=$1.10 (Costo al que se vende el periodico)\n",
        "\n",
        "$c_p=$ 0.90 (Costo del periodico al quiosquero)\n",
        "\n",
        "$c_{vp}=$ 0.20 (Costo por venta perdida)\n",
        "\n",
        "$c_r=$ 0.10 (Costo por reciclaje de periodico no vendido)\n",
        "\n",
        "El valor del beneficio estara dado por la formula\n",
        "\n",
        "$$B(x)= x(c_v) - x(c_p) + Max(50-x,0)(c_r) - Max(x-50,0)(c_{vp})$$\n"
      ],
      "metadata": {
        "id": "mJNvcexW40qo"
      }
    },
    {
      "cell_type": "markdown",
      "source": [
        "**Paso 5**. Experimento: \n",
        "\n",
        "1.Generamos numeros aleatorios"
      ],
      "metadata": {
        "id": "Bfm53Ky78nST"
      }
    },
    {
      "cell_type": "code",
      "execution_count": 189,
      "metadata": {
        "id": "dTlQ_91zdydM"
      },
      "outputs": [],
      "source": [
        "import numpy as np\n",
        "import random\n",
        "import matplotlib.pyplot as plt"
      ]
    },
    {
      "cell_type": "code",
      "source": [
        "def PERIODIAS():\n",
        "    ventas=0\n",
        "    u = random.random()\n",
        "    if 0.0 <= u < 0.20:\n",
        "        ventas = 30\n",
        "    elif 0.20 <= u < 0.45:\n",
        "        ventas = 40\n",
        "    elif 0.45 <= u < 0.70:\n",
        "        ventas = 50\n",
        "    elif 0.70 <= u < 0.90:\n",
        "        ventas = 60\n",
        "    elif 0.90 <= u <= 1.00:\n",
        "        ventas = 70\n",
        "    return ventas"
      ],
      "metadata": {
        "id": "pExxE0L4cR5x"
      },
      "execution_count": 190,
      "outputs": []
    },
    {
      "cell_type": "markdown",
      "source": [
        "2. Simulamos el beneficio en un dia"
      ],
      "metadata": {
        "id": "mBm1LgkIMVss"
      }
    },
    {
      "cell_type": "code",
      "source": [
        "def BEN(k):\n",
        "  x=PERIODIAS()\n",
        "  c_v=1.10 \n",
        "  c_p=0.90\n",
        "  c_vp= 0.20 \n",
        "  c_r= 0.10 \n",
        "\n",
        "  if x>k:\n",
        "    x=k\n",
        "    B=x*c_v - k*c_p -(x-k)*c_vp\n",
        "  elif x<=k:\n",
        "    B=x*c_v - k*c_p + (k-x)*c_r\n",
        "    \n",
        "  return(B)\n"
      ],
      "metadata": {
        "id": "WN2jRcQiMcHr"
      },
      "execution_count": 250,
      "outputs": []
    },
    {
      "cell_type": "markdown",
      "source": [
        "3. Realizamos el experimento n veces guardando los beneficios de cada dia\n"
      ],
      "metadata": {
        "id": "1Gc0YRdEOcX6"
      }
    },
    {
      "cell_type": "code",
      "source": [
        "def experimento(n,k): #Hacemos el experimento n veces\n",
        "    i = 0 #iterador que determinara las veces que se repetira el experimento\n",
        "    c=0 #Contador de casos favorables\n",
        "    Lista = [] #Lista donde se guardaran las probabilidades del caso solicitado\n",
        "    while i<=n: #Hasta que el iterador sea igual al numero de veces que se repite el experimento este se llevara acabo\n",
        "        c+=BEN(k)\n",
        "        i += 1\n",
        "        p=c/i #probabilidad acumulativa\n",
        "        Lista.append(p)\n",
        "    return Lista "
      ],
      "metadata": {
        "id": "ra9BO5dTOi2x"
      },
      "execution_count": 265,
      "outputs": []
    },
    {
      "cell_type": "markdown",
      "source": [
        "4. Calculamos la media de beneficio diario"
      ],
      "metadata": {
        "id": "4p7DmxpZOqSc"
      }
    },
    {
      "cell_type": "code",
      "source": [
        "exp=experimento(5000,50)"
      ],
      "metadata": {
        "id": "UG_GgWTJOrLv"
      },
      "execution_count": 266,
      "outputs": []
    },
    {
      "cell_type": "code",
      "source": [
        "print(\"El promedio de beneficio diario comprando 50 periodicos es de \", np.mean(exp))"
      ],
      "metadata": {
        "colab": {
          "base_uri": "https://localhost:8080/"
        },
        "id": "UZdGWUEKOwj4",
        "outputId": "cec7b624-9dd4-4bfe-8251-e69363f0e95e"
      },
      "execution_count": 267,
      "outputs": [
        {
          "output_type": "stream",
          "name": "stdout",
          "text": [
            "El promedio de beneficio diario comprando 50 periodicos es de  3.3705346063990804\n"
          ]
        }
      ]
    },
    {
      "cell_type": "markdown",
      "source": [
        "5. Obtenemos la gráfica de estabilización que indica que el tamaño de muestra utilizado es suficiente para garantizar la convergencia del resultado."
      ],
      "metadata": {
        "id": "GFzgaCTdO3B_"
      }
    },
    {
      "cell_type": "code",
      "source": [
        "plt.plot(exp)\n",
        "plt.xlabel('iteraciones')\n",
        "plt.ylabel('p')\n",
        "plt.title('BENEFICIO')\n",
        "plt.show()"
      ],
      "metadata": {
        "colab": {
          "base_uri": "https://localhost:8080/",
          "height": 472
        },
        "id": "DEvA1bqIO31B",
        "outputId": "42e84d10-7488-4c81-b183-41fe22cba341"
      },
      "execution_count": 268,
      "outputs": [
        {
          "output_type": "display_data",
          "data": {
            "text/plain": [
              "<Figure size 640x480 with 1 Axes>"
            ],
            "image/png": "[encoded data removed]"
          },
          "metadata": {}
        }
      ]
    },
    {
      "cell_type": "markdown",
      "source": [
        "**PASO 6**. Replicamos el modelo."
      ],
      "metadata": {
        "id": "RAVMDh_pfriH"
      }
    },
    {
      "cell_type": "code",
      "source": [
        "def simulacion_ventas(n):\n",
        "    List = []\n",
        "    for i in range(n):\n",
        "        List.append(np.mean(experimento(5000,50)))\n",
        "    return List"
      ],
      "metadata": {
        "id": "X4SkzlN1au-E"
      },
      "execution_count": 269,
      "outputs": []
    },
    {
      "cell_type": "code",
      "source": [
        "simulacion = simulacion_ventas(500)"
      ],
      "metadata": {
        "id": "QuzZP_uMf60T"
      },
      "execution_count": 270,
      "outputs": []
    },
    {
      "cell_type": "code",
      "source": [
        "plt.hist(simulacion)\n",
        "plt.xlabel('iteraciones')\n",
        "plt.ylabel('p')\n",
        "plt.title('Beneficio')\n",
        "plt.show()"
      ],
      "metadata": {
        "colab": {
          "base_uri": "https://localhost:8080/",
          "height": 472
        },
        "id": "WsMcEP1Cf9EK",
        "outputId": "9aec13c5-4d5f-4cf0-9b33-3b4ae096c8dd"
      },
      "execution_count": 284,
      "outputs": [
        {
          "output_type": "display_data",
          "data": {
            "text/plain": [
              "<Figure size 640x480 with 1 Axes>"
            ],
            "image/png": "[encoded data removed]"
          },
          "metadata": {}
        }
      ]
    },
    {
      "cell_type": "markdown",
      "source": [
        "**PASO 7**. Calculamos la media de beneficio diario que tendra el quiosquero asi como su desviacion estandar"
      ],
      "metadata": {
        "id": "I3pTzv6kgMkc"
      }
    },
    {
      "cell_type": "code",
      "source": [
        "np.mean(simulacion), np.var(simulacion), np.std(simulacion)"
      ],
      "metadata": {
        "colab": {
          "base_uri": "https://localhost:8080/"
        },
        "id": "9JzM17D7gAEA",
        "outputId": "ef400142-d112-4712-f5ec-02d4b185d643"
      },
      "execution_count": 272,
      "outputs": [
        {
          "output_type": "execute_result",
          "data": {
            "text/plain": [
              "(3.497751843799439, 0.024655243501199634, 0.15701988250282076)"
            ]
          },
          "metadata": {},
          "execution_count": 272
        }
      ]
    },
    {
      "cell_type": "markdown",
      "source": [
        "**PASO 8**. Halle el intervalo de confianza de la probabilidad de queaparezcan dos caras lanzando tres veces una moneda \n",
        "al aire con un nivel de confianza del $95 \\%$."
      ],
      "metadata": {
        "id": "IRuLxsqaggO4"
      }
    },
    {
      "cell_type": "markdown",
      "source": [
        "Calculamos primero el limite superior del intervalo de confianza con una certeza del 95% usando la siguiente formula \n",
        "\n",
        "$$L_{s}=\\bar{x}+Z_{\\frac{\\alpha}{2}} \\left(\\frac{\\sigma}{\\sqrt{n}} \\right)$$"
      ],
      "metadata": {
        "id": "Jz6P5P1ggj1E"
      }
    },
    {
      "cell_type": "code",
      "source": [
        "p=np.mean(simulacion)\n",
        "n=500\n",
        "ls=p+(1.96*np.std(simulacion)/np.sqrt(n))\n",
        "print(ls)"
      ],
      "metadata": {
        "colab": {
          "base_uri": "https://localhost:8080/"
        },
        "id": "IPfhptSdgbRJ",
        "outputId": "81612e95-d32f-4ebb-8075-d939d28feeed"
      },
      "execution_count": 273,
      "outputs": [
        {
          "output_type": "stream",
          "name": "stdout",
          "text": [
            "3.511515243338376\n"
          ]
        }
      ]
    },
    {
      "cell_type": "markdown",
      "source": [
        "Calculamos ahora el limite inferior\n",
        "\n",
        "$$L_{i}=\\bar{x}-Z_{\\frac{\\alpha}{2}} \\left(\\frac{\\sigma}{\\sqrt{n}} \\right)$$"
      ],
      "metadata": {
        "id": "XtGDJUNSguNA"
      }
    },
    {
      "cell_type": "code",
      "source": [
        "  p=np.mean(simulacion)\n",
        "  n=500\n",
        "  li=p-(1.96*np.std(simulacion)/np.sqrt(n))\n",
        "  print(li)"
      ],
      "metadata": {
        "colab": {
          "base_uri": "https://localhost:8080/"
        },
        "id": "qBwzBxrKgvd_",
        "outputId": "32c91a11-8265-47f5-b609-47620eaee9ac"
      },
      "execution_count": 274,
      "outputs": [
        {
          "output_type": "stream",
          "name": "stdout",
          "text": [
            "3.483988444260502\n"
          ]
        }
      ]
    },
    {
      "cell_type": "markdown",
      "source": [
        "Por lo tanto los intervalos de confianza son:\n",
        "\n",
        "$$L_{i} \\leq \\mu \\leq L_{s}$$"
      ],
      "metadata": {
        "id": "LA0mxRY3gzsb"
      }
    },
    {
      "cell_type": "code",
      "source": [
        "print(li,\"<=\", p,\"<=\", ls)"
      ],
      "metadata": {
        "colab": {
          "base_uri": "https://localhost:8080/"
        },
        "id": "C5ccKsrNgxUP",
        "outputId": "b05ff65d-4a90-4cdf-f800-413d1065a216"
      },
      "execution_count": 275,
      "outputs": [
        {
          "output_type": "stream",
          "name": "stdout",
          "text": [
            "3.483988444260502 <= 3.497751843799439 <= 3.511515243338376\n"
          ]
        }
      ]
    },
    {
      "cell_type": "markdown",
      "source": [
        "Ahora veamos el pedido de periodicos que aumentaria el beneficio del quiosquero"
      ],
      "metadata": {
        "id": "XBb1iiTJhLG4"
      }
    },
    {
      "cell_type": "code",
      "source": [
        "LISTABEN=[]\n",
        "\n",
        "for i in range(70):\n",
        "  v=np.mean(experimento(5000,i))\n",
        "  LISTABEN.append(v)\n",
        "plt.plot(LISTABEN)\n"
      ],
      "metadata": {
        "colab": {
          "base_uri": "https://localhost:8080/",
          "height": 447
        },
        "id": "N2ZRJ067g8ds",
        "outputId": "b61301c7-7927-45e8-e396-2c6de517776f"
      },
      "execution_count": 278,
      "outputs": [
        {
          "output_type": "execute_result",
          "data": {
            "text/plain": [
              "[<matplotlib.lines.Line2D at 0x7f1b21125090>]"
            ]
          },
          "metadata": {},
          "execution_count": 278
        },
        {
          "output_type": "display_data",
          "data": {
            "text/plain": [
              "<Figure size 640x480 with 1 Axes>"
            ],
            "image/png": "[encoded data removed]"
          },
          "metadata": {}
        }
      ]
    },
    {
      "cell_type": "code",
      "source": [
        "print(\"El valor maximo que alcanzara de benficio el quiosquero sera de \",max(LISTABEN))\n"
      ],
      "metadata": {
        "colab": {
          "base_uri": "https://localhost:8080/"
        },
        "id": "J1M3ojxcpTYd",
        "outputId": "65856dff-6fcb-4872-b927-bc8a80e06638"
      },
      "execution_count": 281,
      "outputs": [
        {
          "output_type": "stream",
          "name": "stdout",
          "text": [
            "El valor maximo que alcanzara de benficio el quiosquero sera de  6.023097795688178\n"
          ]
        }
      ]
    },
    {
      "cell_type": "code",
      "source": [
        "print(\"Que se alcanza cuando compra un total de \", LISTABEN.index(max(LISTABEN))-1, \"periodicos\")"
      ],
      "metadata": {
        "colab": {
          "base_uri": "https://localhost:8080/"
        },
        "id": "oqKOyVKHp7jE",
        "outputId": "b755ce1c-f3b4-4c58-cc0d-0a88c5c83761"
      },
      "execution_count": 283,
      "outputs": [
        {
          "output_type": "stream",
          "name": "stdout",
          "text": [
            "Que se alcanza cuando compra un total de  36 periodicos\n"
          ]
        }
      ]
    }
  ]
}