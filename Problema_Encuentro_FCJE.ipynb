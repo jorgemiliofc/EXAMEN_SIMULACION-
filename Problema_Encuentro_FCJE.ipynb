{
  "cells": [
    {
      "cell_type": "markdown",
      "id": "a5cc0a87",
      "metadata": {
        "id": "a5cc0a87"
      },
      "source": [
        "**<h1><center> PROBLEMA DEL ENCUENTRO. </center></h1>**\n",
        "\n",
        "Flores Carmona Jorge Emilio\n",
        "\n",
        "\n"
      ]
    },
    {
      "cell_type": "markdown",
      "source": [
        "Dos personas han quedado citas en un determinado lugar. Ambas tienen la misma\n",
        "probabilidad de llegar al lugar de la cita en el intervalo de tiempo [0, 30].\n",
        "Determínese la probabilidad de que el tiempo que una persona espere a la otra sea como máximo 10."
      ],
      "metadata": {
        "id": "t4FaCQ0BtqyE"
      },
      "id": "t4FaCQ0BtqyE"
    },
    {
      "cell_type": "markdown",
      "id": "0e218d98",
      "metadata": {
        "id": "0e218d98"
      },
      "source": [
        "### Solución por simulación\n",
        "\n",
        "**1.** Identificamos las variables\n",
        "\n",
        "$t_1 =$ Tiempo de llegada de la primer persona\n",
        "\n",
        "$t_2 =$ Tiempo de llegada de la segunda persona\n",
        "\n",
        "Las variables anteriores las utilizaremos para realizar la solución por simulacion, para la solucion analitica las cambiaremos a $X$ y $Y$ respectivamente."
      ]
    },
    {
      "cell_type": "markdown",
      "id": "3ebcd0f2",
      "metadata": {
        "id": "3ebcd0f2"
      },
      "source": [
        "**2.** Determine la distribución de probabilidad\n",
        "\n",
        "Vemos que en este caso se sigue una distribución uniforme, es decir en cualquier momento entre [0,30] minutos, puede llegar cualquiera de las dos personas\n",
        "\n",
        "Sea $X= t_1$ y $Y=t_2$ que siguen una distribución de probabilidad cada una de \n",
        "\n",
        "$$f(X)= \\left\\{ \\begin{array}{lcc}\n",
        "             \\frac{1}{30} &   si  & 0 \\leq X \\leq 30 \\\\\n",
        "             \\\\ 0 & & en\\ otro\\ caso\n",
        "             \\end{array}\n",
        "   \\right.$$\n",
        "\n",
        "Respectivamente:\n",
        "\n",
        "$$f(Y)= \\left\\{ \\begin{array}{lcc}\n",
        "             \\frac{1}{30} &   si  & 0 \\leq Y \\leq 30 \\\\\n",
        "             \\\\ 0 & & en\\ otro\\ caso\n",
        "             \\end{array}\n",
        "   \\right.$$"
      ]
    },
    {
      "cell_type": "markdown",
      "id": "803801d5",
      "metadata": {
        "id": "803801d5"
      },
      "source": [
        "**3.** Modelamos las variables aleatorias ($t_1$ y $t_2$)\n",
        "\n",
        "Ya que se trata de una distribucion de probabilidad uniforme generaremos numeros aleatorios entre el 0 y el 30 para modelar la llegada de cada una de las personas al lugar indicado apoyandonos de la siguiente función de la libreria **random** en **Python**\n",
        "\n",
        "<center> t=random.uniform(a,b) </center>\n",
        "\n",
        "Con $a=0$ y $b=30$"
      ]
    },
    {
      "cell_type": "markdown",
      "id": "33709223",
      "metadata": {
        "id": "33709223"
      },
      "source": [
        "**4.** Modelo y objetivos del sistemas de simulación\n",
        "\n",
        "El objetivo del siguiente sistema es simular la llegada de dos personas a un mismo lugar y determinar cual es la probabilidad de que la primer persona que llegué espero como maximo diez minutos a la segunda persona en llegar independientemente de quien haya llegado primero.\n",
        "\n",
        "Esto quiere decir que si la primer persona llega antes que la segunda persona, la segunda persona debe llegar maximo en un lapso de 10 minutos despues, es decir \n",
        "\n",
        "$$X \\geq Y-10$$\n",
        "\n",
        "Y si la segunda persona llega primero entonces seria la misma igualdad de la siguiente forma\n",
        "\n",
        "$$Y \\geq X-10$$\n",
        "\n",
        "**Despejando** y multiplicando por (-1)\n",
        "\n",
        "$$X-Y \\leq 10$$\n",
        "$$-(X-Y) \\leq 10$$\n",
        "\n",
        "Es decir el valor absoluto de la resta de los tiempos tiene que ser menor o igual a 10\n",
        "\n",
        "$$|X-Y| \\leq 10$$\n"
      ]
    },
    {
      "cell_type": "markdown",
      "source": [
        "**Paso 5**. Experimento: \n",
        "\n",
        "1.Generamos numeros aleatorios"
      ],
      "metadata": {
        "id": "yKLncEK9F1OY"
      },
      "id": "yKLncEK9F1OY"
    },
    {
      "cell_type": "code",
      "execution_count": 39,
      "id": "7d56c432",
      "metadata": {
        "id": "7d56c432"
      },
      "outputs": [],
      "source": [
        "import numpy as np\n",
        "import random as rnd\n",
        "import matplotlib.pyplot as plt"
      ]
    },
    {
      "cell_type": "code",
      "source": [
        "def Tllegada(): #Definimos una función que genere los numeros aleatorios con los intervalos que requerimos\n",
        "  t=rnd.uniform(0, 30)\n",
        "  return(t)"
      ],
      "metadata": {
        "id": "dqqfxhKEGJin"
      },
      "id": "dqqfxhKEGJin",
      "execution_count": 40,
      "outputs": []
    },
    {
      "cell_type": "markdown",
      "id": "f38f3396",
      "metadata": {
        "id": "f38f3396"
      },
      "source": [
        "2. Simulamos la llegada de las personas\n",
        "\n"
      ]
    },
    {
      "cell_type": "code",
      "source": [
        "def llegada(): #Definimos la función que simulara la llega de la persona 1 y persona 2\n",
        "  c=0 #Contador de casos favorables que cumplan la condición definida en el apartado 4\n",
        "  t1=Tllegada() #Tiempo de llegada de la primer persona\n",
        "  t2=Tllegada() #Tiempo de llegada de la segunda persona\n",
        "  if abs(t1-t2)<=10: #|X-Y| <= 10\n",
        "      c+=1 #Si se cumple la condicion se suma uno a nuestros casos favorables\n",
        "  return(c)"
      ],
      "metadata": {
        "id": "8UQ58B8KM9Vk"
      },
      "id": "8UQ58B8KM9Vk",
      "execution_count": 41,
      "outputs": []
    },
    {
      "cell_type": "markdown",
      "source": [
        "3. Realizamos el experimento n veces guardando las probabilidades obtenidas de exito\n",
        "\n"
      ],
      "metadata": {
        "id": "uOsXy2Bc42MC"
      },
      "id": "uOsXy2Bc42MC"
    },
    {
      "cell_type": "code",
      "source": [
        "def experimento(n): #Hacemos el experimento n veces\n",
        "    i = 0 #iterador que determinara las veces que se repetira el experimento\n",
        "    c=0 #Contador de casos favorables\n",
        "    Lista = [] #Lista donde se guardaran las probabilidades del caso solicitado\n",
        "    while i<=n: #Hasta que el iterador sea igual al numero de veces que se repite el experimento este se llevara acabo\n",
        "        c+=llegada()\n",
        "        i += 1\n",
        "        p=c/i #probabilidad acumulativa\n",
        "        Lista.append(p)\n",
        "    return Lista \n"
      ],
      "metadata": {
        "id": "DlKj_KrOKWjD"
      },
      "id": "DlKj_KrOKWjD",
      "execution_count": 42,
      "outputs": []
    },
    {
      "cell_type": "markdown",
      "source": [
        "4. Calculamos la probabilidad con los datos obtenidos hasta el primer experimento"
      ],
      "metadata": {
        "id": "C28bscuK49_y"
      },
      "id": "C28bscuK49_y"
    },
    {
      "cell_type": "code",
      "source": [
        "exp=experimento(10000) #repetimos el experimento un total de 10000 veces"
      ],
      "metadata": {
        "id": "bRdSAj3pSofB"
      },
      "id": "bRdSAj3pSofB",
      "execution_count": 45,
      "outputs": []
    },
    {
      "cell_type": "code",
      "execution_count": 48,
      "id": "566325f4",
      "metadata": {
        "id": "566325f4",
        "colab": {
          "base_uri": "https://localhost:8080/"
        },
        "outputId": "1dd36340-0f58-49c4-8c0b-8f5179198b28"
      },
      "outputs": [
        {
          "output_type": "stream",
          "name": "stdout",
          "text": [
            "La probabilidad de que el tiempo de espera sea a lo maximo 10 minutos es de  0.5552914919066262\n"
          ]
        }
      ],
      "source": [
        "print(\"La probabilidad de que el tiempo de espera sea a lo maximo 10 minutos es de \", np.mean(exp)) #Calculamos el promedio de las probabilidades para determinar nuestro resultado objetivo"
      ]
    },
    {
      "cell_type": "markdown",
      "source": [
        "5. Obtenemos la gráfica de estabilización que indica que el tamaño de muestra utilizado es suficiente para garantizar la convergencia del resultado."
      ],
      "metadata": {
        "id": "caA8wzOE5OrQ"
      },
      "id": "caA8wzOE5OrQ"
    },
    {
      "cell_type": "code",
      "execution_count": 47,
      "id": "ef68f87c",
      "metadata": {
        "id": "ef68f87c",
        "colab": {
          "base_uri": "https://localhost:8080/",
          "height": 472
        },
        "outputId": "724e21c1-f45f-4eed-ce43-57bf060b9efd"
      },
      "outputs": [
        {
          "output_type": "display_data",
          "data": {
            "text/plain": [
              "<Figure size 640x480 with 1 Axes>"
            ],
            "image/png": "[encoded data removed]"
          },
          "metadata": {}
        }
      ],
      "source": [
        "plt.plot(exp)\n",
        "plt.xlabel('iteraciones')\n",
        "plt.ylabel('p')\n",
        "plt.title('P(|X-Y|<=10)')\n",
        "plt.show()"
      ]
    },
    {
      "cell_type": "markdown",
      "id": "f596fcd1",
      "metadata": {
        "id": "f596fcd1"
      },
      "source": [
        "**PASO 6**. Replicamos el modelo."
      ]
    },
    {
      "cell_type": "code",
      "execution_count": 49,
      "id": "b237f0d0",
      "metadata": {
        "id": "b237f0d0"
      },
      "outputs": [],
      "source": [
        "def simulacion_llegadas(n):\n",
        "    List = []\n",
        "    for i in range(n):\n",
        "        List.append(np.mean(experimento(10000)))\n",
        "    return List"
      ]
    },
    {
      "cell_type": "code",
      "execution_count": 50,
      "id": "d060db89",
      "metadata": {
        "id": "d060db89"
      },
      "outputs": [],
      "source": [
        "simulacion = simulacion_llegadas(500)"
      ]
    },
    {
      "cell_type": "code",
      "execution_count": 51,
      "id": "cc0b958d",
      "metadata": {
        "id": "cc0b958d",
        "colab": {
          "base_uri": "https://localhost:8080/",
          "height": 472
        },
        "outputId": "842a5a75-4946-4c0b-859c-a6d500f41f75"
      },
      "outputs": [
        {
          "output_type": "display_data",
          "data": {
            "text/plain": [
              "<Figure size 640x480 with 1 Axes>"
            ],
            "image/png": "[encoded data removed]"
          },
          "metadata": {}
        }
      ],
      "source": [
        "plt.hist(simulacion)\n",
        "plt.xlabel('iteraciones')\n",
        "plt.ylabel('p')\n",
        "plt.title('Probabilidad')\n",
        "plt.show()"
      ]
    },
    {
      "cell_type": "markdown",
      "id": "6e9bd469",
      "metadata": {
        "id": "6e9bd469"
      },
      "source": [
        "**PASO 7**. Calcule la probabilidad de que el tiempo maximo de espera de una persona que llego antes a un cierto lugar sea de 10 min en lo que llega una segunda persona y su desviación estándar."
      ]
    },
    {
      "cell_type": "code",
      "execution_count": 52,
      "id": "dbeb0461",
      "metadata": {
        "id": "dbeb0461",
        "colab": {
          "base_uri": "https://localhost:8080/"
        },
        "outputId": "7d979e08-fdd3-4751-e1c6-1825cc742251"
      },
      "outputs": [
        {
          "output_type": "execute_result",
          "data": {
            "text/plain": [
              "(0.5552517891312833, 4.483975388471356e-05, 0.006696249240038304)"
            ]
          },
          "metadata": {},
          "execution_count": 52
        }
      ],
      "source": [
        "np.mean(simulacion), np.var(simulacion), np.std(simulacion)"
      ]
    },
    {
      "cell_type": "markdown",
      "id": "db8776d2",
      "metadata": {
        "id": "db8776d2"
      },
      "source": [
        "**PASO 8**. Halle el intervalo de confianza de la probabilidad de queaparezcan dos caras lanzando tres veces una moneda \n",
        "al aire con un nivel de confianza del $95 \\%$."
      ]
    },
    {
      "cell_type": "markdown",
      "source": [
        "Calculamos primero el limite superior del intervalo de confianza con una certeza del 95% usando la siguiente formula \n",
        "\n",
        "$$L_{s}=\\bar{x}+Z_{\\frac{\\alpha}{2}} \\left(\\frac{\\sigma}{\\sqrt{n}} \\right)$$"
      ],
      "metadata": {
        "id": "_6XoWmVV-JeS"
      },
      "id": "_6XoWmVV-JeS"
    },
    {
      "cell_type": "code",
      "execution_count": 65,
      "id": "e5132329",
      "metadata": {
        "id": "e5132329",
        "colab": {
          "base_uri": "https://localhost:8080/"
        },
        "outputId": "d44f3653-85a1-41ca-80b3-bda3b34d4401"
      },
      "outputs": [
        {
          "output_type": "stream",
          "name": "stdout",
          "text": [
            "0.5558387412562875\n"
          ]
        }
      ],
      "source": [
        "p=np.mean(simulacion)\n",
        "n=500\n",
        "ls=p+(1.96*np.std(simulacion)/np.sqrt(n))\n",
        "print(ls)"
      ]
    },
    {
      "cell_type": "markdown",
      "source": [
        "Calculamos ahora el limite inferior\n",
        "\n",
        "$$L_{i}=\\bar{x}-Z_{\\frac{\\alpha}{2}} \\left(\\frac{\\sigma}{\\sqrt{n}} \\right)$$"
      ],
      "metadata": {
        "id": "QttkXeBVHZBf"
      },
      "id": "QttkXeBVHZBf"
    },
    {
      "cell_type": "code",
      "source": [
        "p=np.mean(simulacion)\n",
        "n=500\n",
        "li=p-(1.96*np.std(simulacion)/np.sqrt(n))\n",
        "print(li)"
      ],
      "metadata": {
        "colab": {
          "base_uri": "https://localhost:8080/"
        },
        "id": "22AVJUNn96yf",
        "outputId": "27894e48-cf30-4d12-84b0-541c08392083"
      },
      "id": "22AVJUNn96yf",
      "execution_count": 66,
      "outputs": [
        {
          "output_type": "stream",
          "name": "stdout",
          "text": [
            "0.554664837006279\n"
          ]
        }
      ]
    },
    {
      "cell_type": "markdown",
      "source": [
        "Por lo tanto los intervalos de confianza son:\n",
        "\n",
        "$$L_{i} \\leq P(|X-Y|\\leq 10) \\leq L_{s}$$"
      ],
      "metadata": {
        "id": "UI1nP4DfII-A"
      },
      "id": "UI1nP4DfII-A"
    },
    {
      "cell_type": "code",
      "source": [
        "print(li,\"<=\", p,\"<=\", ls)"
      ],
      "metadata": {
        "colab": {
          "base_uri": "https://localhost:8080/"
        },
        "id": "0rMt3ZQHHi0J",
        "outputId": "c580bf05-e271-4821-fb30-afa82c6b6be4"
      },
      "id": "0rMt3ZQHHi0J",
      "execution_count": 67,
      "outputs": [
        {
          "output_type": "stream",
          "name": "stdout",
          "text": [
            "0.554664837006279 <= 0.5552517891312833 <= 0.5558387412562875\n"
          ]
        }
      ]
    },
    {
      "cell_type": "markdown",
      "source": [
        "### Solución analitica\n",
        "\n",
        "Ahora el siguiente paso es solucionar analiticamente el siguiente problema\n",
        "\n",
        "Sean $f(X)$ y $f(Y)$ dos funciones de probabilidad tales que\n",
        "\n",
        "<h10>\n",
        "$$f(X)= \\left\\{ \\begin{array}{lcc}\n",
        "             \\frac{1}{30} &   si  & 0 \\leq X \\leq 30 \\\\\n",
        "             \\\\ 0 & & en\\ otro\\ caso\n",
        "             \\end{array}\n",
        "   \\right.$$\n",
        "\n",
        "\\\\\n",
        "<h10>\n",
        "$$f(Y)= \\left\\{ \\begin{array}{lcc}\n",
        "             \\frac{1}{30} &   si  & 0 \\leq Y \\leq 30 \\\\\n",
        "             \\\\ 0 & & en\\ otro\\ caso\n",
        "             \\end{array}\n",
        "   \\right.$$\n",
        "\n",
        "\n",
        "Hallar $P(|X-Y|\\leq 10)$\n"
      ],
      "metadata": {
        "id": "qThqRgwLIiQm"
      },
      "id": "qThqRgwLIiQm"
    },
    {
      "cell_type": "markdown",
      "source": [
        "La probabilidad esta dada por la siguiente formula \n",
        "\n",
        "$$P(|X-Y|\\leq 10)= \\int\\int_{|X-Y|\\leq 10} f(x,y)dx dy$$\n",
        "\n",
        "Si $f(x,y)$ es una funcion conjunta de la probabilidad de $f(x)$ y $f(y)$ es decir\n",
        "\n",
        "$f(x,y)=f(x)\\cdot f(y)=\\left( \\frac{1}{30} \\right)\\left( \\frac{1}{30} \\right)=\\frac{1}{30^{2}}$\n"
      ],
      "metadata": {
        "id": "bhCy4MwQZYO-"
      },
      "id": "bhCy4MwQZYO-"
    }
  ],
  "metadata": {
    "kernelspec": {
      "display_name": "Python 3 (ipykernel)",
      "language": "python",
      "name": "python3"
    },
    "language_info": {
      "codemirror_mode": {
        "name": "ipython",
        "version": 3
      },
      "file_extension": ".py",
      "mimetype": "text/x-python",
      "name": "python",
      "nbconvert_exporter": "python",
      "pygments_lexer": "ipython3",
      "version": "3.7.3"
    },
    "colab": {
      "provenance": []
    }
  },
  "nbformat": 4,
  "nbformat_minor": 5
}